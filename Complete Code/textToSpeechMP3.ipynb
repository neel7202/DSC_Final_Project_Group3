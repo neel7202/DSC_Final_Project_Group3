{
 "cells": [
  {
   "cell_type": "code",
   "execution_count": 2,
   "id": "deaf91d2",
   "metadata": {},
   "outputs": [
    {
     "name": "stdout",
     "output_type": "stream",
     "text": [
      "make_bucket: ethanmayblumtest2\n"
     ]
    }
   ],
   "source": [
    "#Replace name with your unique bucket name, remember it for later in the next code block\n",
    "insert_name = \"ethanmayblumtest2\"\n",
    "bucketname = f\"s3://{insert_name}\"\n",
    "!aws s3 mb $bucketname"
   ]
  },
  {
   "cell_type": "code",
   "execution_count": 3,
   "id": "8cfa9e87",
   "metadata": {},
   "outputs": [
    {
     "name": "stdout",
     "output_type": "stream",
     "text": [
      "2022-11-22 18:56:23 ethanmayblumtest2\n",
      "2022-10-17 14:52:27 example-mayblum\n",
      "2022-10-31 01:47:47 hw3-license-mayblum-1\n",
      "2022-10-24 14:45:38 image-api-example-mayblum\n",
      "2022-10-31 14:13:05 mayblum-testsite\n",
      "2022-11-09 15:08:39 sagemaker-studio-143173370786-ycwopx7zx2\n",
      "2022-11-09 15:14:11 sagemaker-us-east-1-143173370786\n"
     ]
    }
   ],
   "source": [
    "# Check to see if bucket was made\n",
    "!aws s3 ls"
   ]
  },
  {
   "cell_type": "code",
   "execution_count": 4,
   "id": "5e8b3d2a",
   "metadata": {},
   "outputs": [
    {
     "name": "stdout",
     "output_type": "stream",
     "text": [
      "                                             Original\n",
      "0   Gwen had her best sleep ever on her new bed of...\n",
      "1   When confronted with a rotary dial phone the t...\n",
      "2   There was no telling what thoughts would come ...\n",
      "3          Baby wipes are made of chocolate stardust.\n",
      "4   It caught him off guard that space smelled of ...\n",
      "..                                                ...\n",
      "95                            Love is not like pizza.\n",
      "96           Her scream silenced the rowdy teenagers.\n",
      "97  The waves were crashing on the shore, it was a...\n",
      "98  Sometimes you have to just give up and win by ...\n",
      "99       He loved eating his bananas in hot dog buns.\n",
      "\n",
      "[100 rows x 1 columns]\n"
     ]
    }
   ],
   "source": [
    "# import pandas lib as pd\n",
    "import pandas as pd\n",
    " \n",
    "# read by default 1st sheet of an excel file\n",
    "df = pd.read_excel('/home/ec2-user/SageMaker/DSC_Final_Project_Group3/Data/100Random.xlsx') #changed\n",
    "\n",
    "print(df)"
   ]
  },
  {
   "cell_type": "code",
   "execution_count": 12,
   "id": "9ca28e3d",
   "metadata": {},
   "outputs": [],
   "source": [
    "import boto3\n",
    "from botocore.exceptions import BotoCoreError, ClientError\n",
    "from contextlib import closing\n",
    "import os\n",
    "import sys\n",
    "import subprocess\n",
    "import io\n",
    "from tempfile import gettempdir\n",
    "# Create a client using the credentials and region defined in the [adminuser]\n",
    "polly = boto3.client('polly', region_name='us-east-1')\n",
    "\n",
    "# Create mp3 file for all sentences with each voice accent\n",
    "voices = [\"Joanna\", \"Emma\", \"Seoyeon\", \"Lea\", \"Lucia\", \"Aditi\"]\n",
    "for voice in voices:\n",
    "    folder = f'/home/ec2-user/SageMaker/DSC_Final_Project_Group3/CompleteCode/{voice}' #change\n",
    "    os.mkdir(folder)\n",
    "    i = 0\n",
    "    for sentence in df[\"Original\"]:\n",
    "        i += 1\n",
    "        response = polly.synthesize_speech(Text= sentence, OutputFormat=\"mp3\",\n",
    "        VoiceId=f\"{voice}\", LanguageCode = \"en-US\")\n",
    "\n",
    "        if \"AudioStream\" in response:\n",
    "            with closing(response[\"AudioStream\"]) as stream:\n",
    "                # IMPORTANT!! THIS WILL ONLY WORK IF YOU HAVE CREATED A FOLDER FOR EACH VOICE ACCENT     \n",
    "                output = os.path.join(f\"/home/ec2-user/SageMaker/DSC_Final_Project_Group3/CompleteCode/{voice}\", f\"{voice + str(i)}.mp3\") #change\n",
    "                try:\n",
    "         # Open a file for writing the output as a binary stream\n",
    "                    with open(output, \"wb\") as file:\n",
    "                        file.write(stream.read())\n",
    "                except IOError as error:\n",
    "         # Could not write to file, exit gracefully\n",
    "                    print(error)\n",
    "                    sys.exit(-1)\n",
    "        else:\n",
    "         # The response didn't contain audio data, exit gracefully\n",
    "            print(\"Could not stream audio\")\n",
    "            sys.exit(-1)\n"
   ]
  },
  {
   "cell_type": "code",
   "execution_count": null,
   "id": "6b17fa81",
   "metadata": {},
   "outputs": [
    {
     "name": "stdout",
     "output_type": "stream",
     "text": [
      "move: Joanna/Joanna74.mp3 to s3://ethanmayblumtest2/Joanna74.mp3  \n",
      "move: Joanna/Joanna82.mp3 to s3://ethanmayblumtest2/Joanna82.mp3\n",
      "move: Joanna/Joanna96.mp3 to s3://ethanmayblumtest2/Joanna96.mp3\n",
      "move: Joanna/Joanna20.mp3 to s3://ethanmayblumtest2/Joanna20.mp3  \n",
      "move: Joanna/Joanna34.mp3 to s3://ethanmayblumtest2/Joanna34.mp3  \n",
      "move: Joanna/Joanna89.mp3 to s3://ethanmayblumtest2/Joanna89.mp3  \n",
      "move: Joanna/Joanna80.mp3 to s3://ethanmayblumtest2/Joanna80.mp3  \n",
      "move: Joanna/Joanna47.mp3 to s3://ethanmayblumtest2/Joanna47.mp3  \n",
      "move: Joanna/Joanna16.mp3 to s3://ethanmayblumtest2/Joanna16.mp3  \n",
      "move: Joanna/Joanna71.mp3 to s3://ethanmayblumtest2/Joanna71.mp3  \n",
      "move: Joanna/Joanna35.mp3 to s3://ethanmayblumtest2/Joanna35.mp3  \n",
      "move: Joanna/Joanna93.mp3 to s3://ethanmayblumtest2/Joanna93.mp3  \n",
      "move: Joanna/Joanna60.mp3 to s3://ethanmayblumtest2/Joanna60.mp3  \n",
      "move: Joanna/Joanna30.mp3 to s3://ethanmayblumtest2/Joanna30.mp3  \n",
      "move: Joanna/Joanna52.mp3 to s3://ethanmayblumtest2/Joanna52.mp3  \n",
      "move: Joanna/Joanna54.mp3 to s3://ethanmayblumtest2/Joanna54.mp3  \n",
      "move: Joanna/Joanna2.mp3 to s3://ethanmayblumtest2/Joanna2.mp3    \n",
      "move: Joanna/Joanna97.mp3 to s3://ethanmayblumtest2/Joanna97.mp3  \n",
      "move: Joanna/Joanna41.mp3 to s3://ethanmayblumtest2/Joanna41.mp3  \n",
      "move: Joanna/Joanna77.mp3 to s3://ethanmayblumtest2/Joanna77.mp3  \n",
      "move: Joanna/Joanna68.mp3 to s3://ethanmayblumtest2/Joanna68.mp3  \n",
      "move: Joanna/Joanna72.mp3 to s3://ethanmayblumtest2/Joanna72.mp3  \n",
      "move: Joanna/Joanna36.mp3 to s3://ethanmayblumtest2/Joanna36.mp3  \n",
      "move: Joanna/Joanna37.mp3 to s3://ethanmayblumtest2/Joanna37.mp3  \n",
      "move: Joanna/Joanna13.mp3 to s3://ethanmayblumtest2/Joanna13.mp3  \n",
      "move: Joanna/Joanna25.mp3 to s3://ethanmayblumtest2/Joanna25.mp3  \n",
      "move: Joanna/Joanna98.mp3 to s3://ethanmayblumtest2/Joanna98.mp3  \n",
      "move: Joanna/Joanna75.mp3 to s3://ethanmayblumtest2/Joanna75.mp3  \n",
      "move: Joanna/Joanna8.mp3 to s3://ethanmayblumtest2/Joanna8.mp3    \n",
      "move: Joanna/Joanna53.mp3 to s3://ethanmayblumtest2/Joanna53.mp3  \n",
      "move: Joanna/Joanna61.mp3 to s3://ethanmayblumtest2/Joanna61.mp3  \n",
      "move: Joanna/Joanna49.mp3 to s3://ethanmayblumtest2/Joanna49.mp3  \n"
     ]
    }
   ],
   "source": [
    "# Move all mp3 files into S3 Bucket\n",
    "voices = [\"Joanna\", \"Emma\", \"Seoyeon\", \"Lea\", \"Lucia\", \"Aditi\"]\n",
    "string = \"\"\n",
    "for voice in voices:\n",
    "    for name in os.listdir(f\"/home/ec2-user/SageMaker/DSC_Final_Project_Group3/CompleteCode/{voice}\"):\n",
    "        string = f\"/home/ec2-user/SageMaker/DSC_Final_Project_Group3/CompleteCode/{voice}/{name}\"\n",
    "        !aws s3 mv $string s3://ethanmayblumtest2"
   ]
  }
 ],
 "metadata": {
  "kernelspec": {
   "display_name": "conda_python3",
   "language": "python",
   "name": "conda_python3"
  },
  "language_info": {
   "codemirror_mode": {
    "name": "ipython",
    "version": 3
   },
   "file_extension": ".py",
   "mimetype": "text/x-python",
   "name": "python",
   "nbconvert_exporter": "python",
   "pygments_lexer": "ipython3",
   "version": "3.8.12"
  }
 },
 "nbformat": 4,
 "nbformat_minor": 5
}
